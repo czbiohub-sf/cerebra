{
 "cells": [
  {
   "cell_type": "code",
   "execution_count": 1,
   "metadata": {},
   "outputs": [
    {
     "data": {
      "text/plain": [
       "' Module for writing artifical vcfs,\\n    for testing purposes '"
      ]
     },
     "execution_count": 1,
     "metadata": {},
     "output_type": "execute_result"
    }
   ],
   "source": [
    "\"\"\" Module for writing artifical vcfs,\n",
    "    for testing purposes \"\"\""
   ]
  },
  {
   "cell_type": "code",
   "execution_count": 2,
   "metadata": {},
   "outputs": [],
   "source": [
    "import pandas as pd\n",
    "import os\n",
    "import VCF\n",
    "import warnings\n",
    "warnings.simplefilter(action='ignore', category=FutureWarning)"
   ]
  },
  {
   "cell_type": "code",
   "execution_count": 107,
   "metadata": {},
   "outputs": [],
   "source": [
    "def write_vcf(outStr_, chrom, pos):\n",
    "    \"\"\" routine for writing VCF files, from an existing dataframe. \n",
    "    essentially just adding in this horrible vcf header. \"\"\"\n",
    "    \n",
    "    cwd = os.getcwd()\n",
    "    \n",
    "    with open(cwd + '/../cerebra/vcfheader.txt', 'r') as f:\n",
    "        header = f.read()\n",
    "        df = pd.DataFrame(columns=['#CHROM', 'POS', 'ID', 'REF', 'ALT', 'QUAL', 'FILTER', 'INFO', 'FORMAT', '20'])\n",
    "        \n",
    "        chrom_ = 'chr' + str(chrom)\n",
    "        pos_ = pos\n",
    "        id_ = '.'\n",
    "        ref_ = 'C'\n",
    "        alt_ = 'A'\n",
    "        qual_ = 60.28\n",
    "        filter_ = '.'\n",
    "        info_ = 'AC=2;AF=1.00;AN=2;DP=7;ExcessHet=3.0103;FS=0.000;MLEAC=1;MLEAF=0.500;MQ=3.00;QD=30.14;SOR=2.303'\n",
    "        format_ = 'GT:AD:DP:GQ:PL'\n",
    "        twenty = '1/1:2,2:13:38:434,38,0'\n",
    "        \n",
    "        df = df.append({'#CHROM': chrom_, 'POS': pos_, 'ID': id_, 'REF': ref_, 'ALT': alt_, \n",
    "                        'QUAL': qual_, 'FILTER': filter_, 'INFO': info_, 'FORMAT': format_,\n",
    "                       '20': twenty}, ignore_index=True)\n",
    "        \n",
    "        output_VCF = outStr_\n",
    "        with open(output_VCF, 'w') as vcf:\n",
    "            vcf.write(header)\n",
    "\n",
    "        df.to_csv(output_VCF, sep=\"\\t\", mode='a', index=False)"
   ]
  },
  {
   "cell_type": "code",
   "execution_count": 108,
   "metadata": {},
   "outputs": [],
   "source": [
    "write_vcf('test0_kras_G13C.vcf', 12, 25245348)"
   ]
  },
  {
   "cell_type": "code",
   "execution_count": 62,
   "metadata": {},
   "outputs": [
    {
     "data": {
      "text/html": [
       "<div>\n",
       "<style scoped>\n",
       "    .dataframe tbody tr th:only-of-type {\n",
       "        vertical-align: middle;\n",
       "    }\n",
       "\n",
       "    .dataframe tbody tr th {\n",
       "        vertical-align: top;\n",
       "    }\n",
       "\n",
       "    .dataframe thead th {\n",
       "        text-align: right;\n",
       "    }\n",
       "</style>\n",
       "<table border=\"1\" class=\"dataframe\">\n",
       "  <thead>\n",
       "    <tr style=\"text-align: right;\">\n",
       "      <th></th>\n",
       "      <th>CHROM</th>\n",
       "      <th>POS</th>\n",
       "      <th>ID</th>\n",
       "      <th>REF</th>\n",
       "      <th>ALT</th>\n",
       "      <th>QUAL</th>\n",
       "      <th>FILTER</th>\n",
       "      <th>INFO</th>\n",
       "    </tr>\n",
       "  </thead>\n",
       "  <tbody>\n",
       "    <tr>\n",
       "      <th>0</th>\n",
       "      <td>chr7</td>\n",
       "      <td>140753336</td>\n",
       "      <td>.</td>\n",
       "      <td>T</td>\n",
       "      <td>A</td>\n",
       "      <td>60.28</td>\n",
       "      <td>.</td>\n",
       "      <td>AC=2;AF=1.00;AN=2;DP=7;ExcessHet=3.0103;FS=0.0...</td>\n",
       "    </tr>\n",
       "  </tbody>\n",
       "</table>\n",
       "</div>"
      ],
      "text/plain": [
       "  CHROM        POS ID REF ALT   QUAL FILTER  \\\n",
       "0  chr7  140753336  .   T   A  60.28      .   \n",
       "\n",
       "                                                INFO  \n",
       "0  AC=2;AF=1.00;AN=2;DP=7;ExcessHet=3.0103;FS=0.0...  "
      ]
     },
     "execution_count": 62,
     "metadata": {},
     "output_type": "execute_result"
    }
   ],
   "source": [
    "VCF.dataframe('../cerebra/wrkdir/vcf_test_set/test8_braf_V600E.vcf')"
   ]
  },
  {
   "cell_type": "code",
   "execution_count": null,
   "metadata": {},
   "outputs": [],
   "source": []
  }
 ],
 "metadata": {
  "kernelspec": {
   "display_name": "Python 3",
   "language": "python",
   "name": "python3"
  },
  "language_info": {
   "codemirror_mode": {
    "name": "ipython",
    "version": 3
   },
   "file_extension": ".py",
   "mimetype": "text/x-python",
   "name": "python",
   "nbconvert_exporter": "python",
   "pygments_lexer": "ipython3",
   "version": "3.7.4"
  }
 },
 "nbformat": 4,
 "nbformat_minor": 2
}
