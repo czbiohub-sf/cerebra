{
 "cells": [
  {
   "cell_type": "code",
   "execution_count": 2,
   "metadata": {
    "scrolled": true
   },
   "outputs": [
    {
     "name": "stdout",
     "output_type": "stream",
     "text": [
      "Obtaining file:///Users/lincoln.harris/code/cerebra\n",
      "Requirement already satisfied: pytest in /Users/lincoln.harris/anaconda3/envs/cerebra/lib/python3.6/site-packages (from cerebra==0.1.0) (4.3.1)\n",
      "Requirement already satisfied: flake8 in /Users/lincoln.harris/anaconda3/envs/cerebra/lib/python3.6/site-packages (from cerebra==0.1.0) (3.7.7)\n",
      "Requirement already satisfied: coverage in /Users/lincoln.harris/anaconda3/envs/cerebra/lib/python3.6/site-packages (from cerebra==0.1.0) (4.5.3)\n",
      "Requirement already satisfied: click in /Users/lincoln.harris/anaconda3/envs/cerebra/lib/python3.6/site-packages (from cerebra==0.1.0) (7.0)\n",
      "Requirement already satisfied: setuptools>=38.6.0 in /Users/lincoln.harris/anaconda3/envs/cerebra/lib/python3.6/site-packages (from cerebra==0.1.0) (40.8.0)\n",
      "Requirement already satisfied: tqdm in /Users/lincoln.harris/anaconda3/envs/cerebra/lib/python3.6/site-packages/tqdm-4.7.2-py3.6.egg (from cerebra==0.1.0) (4.7.2)\n",
      "Requirement already satisfied: colorama in /Users/lincoln.harris/anaconda3/envs/cerebra/lib/python3.6/site-packages (from cerebra==0.1.0) (0.4.1)\n",
      "Requirement already satisfied: numpy in /Users/lincoln.harris/anaconda3/envs/cerebra/lib/python3.6/site-packages (from cerebra==0.1.0) (1.16.2)\n",
      "Requirement already satisfied: pandas in /Users/lincoln.harris/anaconda3/envs/cerebra/lib/python3.6/site-packages (from cerebra==0.1.0) (0.24.2)\n",
      "Requirement already satisfied: pyvcf in /Users/lincoln.harris/anaconda3/envs/cerebra/lib/python3.6/site-packages (from cerebra==0.1.0) (0.6.8)\n",
      "Requirement already satisfied: py>=1.5.0 in /Users/lincoln.harris/anaconda3/envs/cerebra/lib/python3.6/site-packages (from pytest->cerebra==0.1.0) (1.8.0)\n",
      "Requirement already satisfied: six>=1.10.0 in /Users/lincoln.harris/anaconda3/envs/cerebra/lib/python3.6/site-packages (from pytest->cerebra==0.1.0) (1.12.0)\n",
      "Requirement already satisfied: attrs>=17.4.0 in /Users/lincoln.harris/anaconda3/envs/cerebra/lib/python3.6/site-packages (from pytest->cerebra==0.1.0) (19.1.0)\n",
      "Requirement already satisfied: atomicwrites>=1.0 in /Users/lincoln.harris/anaconda3/envs/cerebra/lib/python3.6/site-packages (from pytest->cerebra==0.1.0) (1.3.0)\n",
      "Requirement already satisfied: pluggy>=0.7 in /Users/lincoln.harris/anaconda3/envs/cerebra/lib/python3.6/site-packages (from pytest->cerebra==0.1.0) (0.9.0)\n",
      "Requirement already satisfied: more-itertools>=4.0.0 in /Users/lincoln.harris/anaconda3/envs/cerebra/lib/python3.6/site-packages (from pytest->cerebra==0.1.0) (6.0.0)\n",
      "Requirement already satisfied: entrypoints<0.4.0,>=0.3.0 in /Users/lincoln.harris/anaconda3/envs/cerebra/lib/python3.6/site-packages (from flake8->cerebra==0.1.0) (0.3)\n",
      "Requirement already satisfied: pyflakes<2.2.0,>=2.1.0 in /Users/lincoln.harris/anaconda3/envs/cerebra/lib/python3.6/site-packages (from flake8->cerebra==0.1.0) (2.1.1)\n",
      "Requirement already satisfied: pycodestyle<2.6.0,>=2.5.0 in /Users/lincoln.harris/anaconda3/envs/cerebra/lib/python3.6/site-packages (from flake8->cerebra==0.1.0) (2.5.0)\n",
      "Requirement already satisfied: mccabe<0.7.0,>=0.6.0 in /Users/lincoln.harris/anaconda3/envs/cerebra/lib/python3.6/site-packages (from flake8->cerebra==0.1.0) (0.6.1)\n",
      "Requirement already satisfied: pytz>=2011k in /Users/lincoln.harris/anaconda3/envs/cerebra/lib/python3.6/site-packages (from pandas->cerebra==0.1.0) (2018.9)\n",
      "Requirement already satisfied: python-dateutil>=2.5.0 in /Users/lincoln.harris/.local/lib/python3.6/site-packages (from pandas->cerebra==0.1.0) (2.7.5)\n",
      "Installing collected packages: cerebra\n",
      "  Found existing installation: cerebra 0.1.0\n",
      "    Uninstalling cerebra-0.1.0:\n",
      "      Successfully uninstalled cerebra-0.1.0\n",
      "  Running setup.py develop for cerebra\n",
      "Successfully installed cerebra\n"
     ]
    }
   ],
   "source": [
    "! pip install -e .\n",
    "%load_ext autoreload\n",
    "%autoreload 2"
   ]
  },
  {
   "cell_type": "code",
   "execution_count": 4,
   "metadata": {
    "collapsed": true
   },
   "outputs": [],
   "source": [
    "#import cerebra\n",
    "import pandas as pd\n",
    "pd.options.display.max_columns = None"
   ]
  },
  {
   "cell_type": "code",
   "execution_count": 8,
   "metadata": {},
   "outputs": [],
   "source": [
    "from cerebra import get_aa_mutations"
   ]
  },
  {
   "cell_type": "code",
   "execution_count": 10,
   "metadata": {},
   "outputs": [
    {
     "name": "stderr",
     "output_type": "stream",
     "text": [
      "Usage: ipykernel_launcher.py [OPTIONS]\n",
      "Try \"ipykernel_launcher.py --help\" for help.\n",
      "\n",
      "Error: no such option: -f\n"
     ]
    },
    {
     "ename": "SystemExit",
     "evalue": "2",
     "output_type": "error",
     "traceback": [
      "An exception has occurred, use %tb to see the full traceback.\n",
      "\u001b[0;31mSystemExit\u001b[0m\u001b[0;31m:\u001b[0m 2\n"
     ]
    },
    {
     "name": "stderr",
     "output_type": "stream",
     "text": [
      "/Users/lincoln.harris/anaconda3/envs/cerebra/lib/python3.6/site-packages/IPython/core/interactiveshell.py:3304: UserWarning: To exit: use 'exit', 'quit', or Ctrl-D.\n",
      "  warn(\"To exit: use 'exit', 'quit', or Ctrl-D.\", stacklevel=1)\n"
     ]
    }
   ],
   "source": [
    "get_aa_mutations.get_aa_mutations()"
   ]
  },
  {
   "cell_type": "code",
   "execution_count": 11,
   "metadata": {},
   "outputs": [
    {
     "ename": "TypeError",
     "evalue": "are_hits_in_cosmic() missing 2 required positional arguments: 'queryList' and 'SNP_bool'",
     "output_type": "error",
     "traceback": [
      "\u001b[0;31m---------------------------------------------------------------------------\u001b[0m",
      "\u001b[0;31mTypeError\u001b[0m                                 Traceback (most recent call last)",
      "\u001b[0;32m<ipython-input-11-db8d149a4184>\u001b[0m in \u001b[0;36m<module>\u001b[0;34m\u001b[0m\n\u001b[0;32m----> 1\u001b[0;31m \u001b[0mget_aa_mutations\u001b[0m\u001b[0;34m.\u001b[0m\u001b[0mare_hits_in_cosmic\u001b[0m\u001b[0;34m(\u001b[0m\u001b[0;34m)\u001b[0m\u001b[0;34m\u001b[0m\u001b[0;34m\u001b[0m\u001b[0m\n\u001b[0m",
      "\u001b[0;31mTypeError\u001b[0m: are_hits_in_cosmic() missing 2 required positional arguments: 'queryList' and 'SNP_bool'"
     ]
    }
   ],
   "source": [
    "get_aa_mutations.are_hits_in_cosmic()"
   ]
  },
  {
   "cell_type": "code",
   "execution_count": 14,
   "metadata": {},
   "outputs": [
    {
     "ename": "TypeError",
     "evalue": "__init__() missing 2 required positional arguments: 'predicate' and 'df'",
     "output_type": "error",
     "traceback": [
      "\u001b[0;31m---------------------------------------------------------------------------\u001b[0m",
      "\u001b[0;31mTypeError\u001b[0m                                 Traceback (most recent call last)",
      "\u001b[0;32m<ipython-input-14-80fe304881e6>\u001b[0m in \u001b[0;36m<module>\u001b[0;34m\u001b[0m\n\u001b[1;32m      1\u001b[0m \u001b[0;32mfrom\u001b[0m \u001b[0mcerebra\u001b[0m \u001b[0;32mimport\u001b[0m \u001b[0mutils\u001b[0m\u001b[0;34m\u001b[0m\u001b[0;34m\u001b[0m\u001b[0m\n\u001b[0;32m----> 2\u001b[0;31m \u001b[0mutils\u001b[0m\u001b[0;34m.\u001b[0m\u001b[0mGenomeDataframeTree\u001b[0m\u001b[0;34m(\u001b[0m\u001b[0;34m)\u001b[0m\u001b[0;34m\u001b[0m\u001b[0;34m\u001b[0m\u001b[0m\n\u001b[0m",
      "\u001b[0;31mTypeError\u001b[0m: __init__() missing 2 required positional arguments: 'predicate' and 'df'"
     ]
    }
   ],
   "source": [
    "from cerebra import utils\n",
    "utils.GenomeDataframeTree()"
   ]
  },
  {
   "cell_type": "code",
   "execution_count": null,
   "metadata": {
    "collapsed": true
   },
   "outputs": [],
   "source": [
    "cosmic_genome_tree = utils.GenomeDataframeTree(lambda row: utils.GenomePosition.from_str(str(row[\"Mutation genome position\"])), database_laud)"
   ]
  }
 ],
 "metadata": {
  "kernelspec": {
   "display_name": "Python [conda env:cerebra]",
   "language": "python",
   "name": "conda-env-cerebra-py"
  },
  "language_info": {
   "codemirror_mode": {
    "name": "ipython",
    "version": 3
   },
   "file_extension": ".py",
   "mimetype": "text/x-python",
   "name": "python",
   "nbconvert_exporter": "python",
   "pygments_lexer": "ipython3",
   "version": "3.6.8"
  }
 },
 "nbformat": 4,
 "nbformat_minor": 2
}
